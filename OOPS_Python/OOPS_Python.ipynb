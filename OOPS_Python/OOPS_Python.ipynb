{
 "cells": [
  {
   "cell_type": "markdown",
   "metadata": {},
   "source": [
    "1. What is Object-Oriented Programming(OOP)?\n",
    "2. Classes in Python\n",
    "3. Python Objects(Instances)\n",
    "4. How to define a class in Python\n",
    "    * Instance attributes\n",
    "    * Class attributes\n",
    "5. Instantiating Objects\n",
    "    * What's going on?\n",
    "    * Review Exercises(#1)\n",
    "6. Instance Methods\n",
    "    * Modifying Attributes\n",
    "7. Python Object Inheritance\n",
    "    * Dog Park Example\n",
    "    * Extending the functionality of a Parent Class\n",
    "    * Parent vs. Child Classes\n",
    "    * Overriding the Functionality of a Parent Class\n",
    "    * Review Exercises(#2)\n",
    "8. Conclusion\n",
    "    "
   ]
  },
  {
   "cell_type": "markdown",
   "metadata": {},
   "source": [
    "## 1. What is Object-Oriented Programming(OOP)?\n"
   ]
  },
  {
   "cell_type": "markdown",
   "metadata": {},
   "source": [
    "OOPs provides means of structuring programs so that properties and behaviors are bundled into individual *objects*."
   ]
  },
  {
   "cell_type": "markdown",
   "metadata": {},
   "source": [
    "Eg: Person: \n",
    " \n",
    " ![alt text][logo]  \n",
    " \n",
    " [logo]: https://github.com/SavithaNagaraju/Word2vec_numpy_Derek_Chia/tree/master/Images/oops1.png \"Person Example\"\n"
   ]
  },
  {
   "cell_type": "markdown",
   "metadata": {},
   "source": [
    "## 2. Classes in Python"
   ]
  },
  {
   "cell_type": "markdown",
   "metadata": {},
   "source": [
    "Classes are used to create new user-defined data structures that contain arbitrary information about something. \n",
    "* **Class just provides structure-- its a blueprint for how something should be defined, but it doesn't actually provide any real content itself. The Animal() class may specify that the name and age are necessary for defining an animal, but it will not actually state what a specific animal's name or age is.**"
   ]
  },
  {
   "cell_type": "markdown",
   "metadata": {},
   "source": [
    "## 3. Python Objects(Instances)"
   ]
  },
  {
   "cell_type": "markdown",
   "metadata": {},
   "source": [
    "While the class is blueprint, an *instance* is a copy of the class with *actual* values, literally an object belonging to a specific class.\\\n",
    "Its not an idea anymore; its an actual animal, like a dog named Roger who's eight years old."
   ]
  },
  {
   "cell_type": "markdown",
   "metadata": {},
   "source": [
    "A class is like a form or questionnaire. It defines the needed information. After you fill out the form, your specific copy is an instance of the class; it contains actual information relevant to you."
   ]
  },
  {
   "cell_type": "markdown",
   "metadata": {},
   "source": [
    "You can fill out multiple copies to create many different instances, bit without the form as a guide, you would be lost, not knowing what information is required. "
   ]
  },
  {
   "cell_type": "markdown",
   "metadata": {},
   "source": [
    "## 4. How to define a class in Python"
   ]
  },
  {
   "cell_type": "markdown",
   "metadata": {},
   "source": [
    "Defining a class is simple in Python"
   ]
  },
  {
   "cell_type": "code",
   "execution_count": 1,
   "metadata": {},
   "outputs": [],
   "source": [
    "class Dog:\n",
    "    pass\n"
   ]
  },
  {
   "cell_type": "markdown",
   "metadata": {},
   "source": [
    "### Instance Attributes ###"
   ]
  },
  {
   "cell_type": "code",
   "execution_count": 2,
   "metadata": {},
   "outputs": [],
   "source": [
    "class Dog:\n",
    "    \n",
    "    #Instance attributes\n",
    "    def __init__(self, name, age):\n",
    "        self.name = name\n",
    "        self.age = age\n",
    "        \n",
    "    "
   ]
  },
  {
   "cell_type": "markdown",
   "metadata": {},
   "source": [
    "In the case of Dog() class, each dog has a specific name and age, which is obviously important to know when you start actually creating different dogs.\n",
    "\n",
    "* Class is just for defining the dog, not actually creating instances of individual dogs.\n",
    "* *self* variable is also an instance of the class.\n",
    "* Since instances of the class have varying values we could we could state Dog.name = name rather than self.name = name.\\\n",
    "But since all dogs dont share the same name, we need to be able to assign different values to different instances.\\\n",
    "Hence the need for the special *self* variable, which will help to keep track of individual instances of each class.\n"
   ]
  },
  {
   "cell_type": "markdown",
   "metadata": {},
   "source": [
    "### Class Attributes ###"
   ]
  },
  {
   "cell_type": "code",
   "execution_count": 3,
   "metadata": {},
   "outputs": [],
   "source": [
    "class Dog:\n",
    "    # Class Attribute\n",
    "    species = 'mammal'\n",
    "    \n",
    "    # Instance Attributes\n",
    "    def __init__(self, name, age):\n",
    "        self.name = name\n",
    "        self.age = age"
   ]
  },
  {
   "cell_type": "markdown",
   "metadata": {},
   "source": [
    "**Instance attributes** are specific to each object, **class attributes** are the same for all instance-- which in this case is all *dogs*.\\\n",
    "\n",
    "So while each dog has a unique name and age, every dog will be a mammal."
   ]
  },
  {
   "cell_type": "markdown",
   "metadata": {},
   "source": [
    "## Instantiating Objects ##"
   ]
  },
  {
   "cell_type": "markdown",
   "metadata": {},
   "source": [
    "Instantiating is a fancy term for creating a new, unique instance of a class."
   ]
  },
  {
   "cell_type": "code",
   "execution_count": 4,
   "metadata": {},
   "outputs": [
    {
     "data": {
      "text/plain": [
       "<__main__.Dog at 0x560eb90>"
      ]
     },
     "execution_count": 4,
     "metadata": {},
     "output_type": "execute_result"
    }
   ],
   "source": [
    "class Dog:\n",
    "    pass\n",
    "\n",
    "Dog()\n"
   ]
  },
  {
   "cell_type": "code",
   "execution_count": 5,
   "metadata": {},
   "outputs": [
    {
     "data": {
      "text/plain": [
       "<__main__.Dog at 0x560e6d0>"
      ]
     },
     "execution_count": 5,
     "metadata": {},
     "output_type": "execute_result"
    }
   ],
   "source": [
    "Dog()"
   ]
  },
  {
   "cell_type": "code",
   "execution_count": 6,
   "metadata": {},
   "outputs": [
    {
     "data": {
      "text/plain": [
       "False"
      ]
     },
     "execution_count": 6,
     "metadata": {},
     "output_type": "execute_result"
    }
   ],
   "source": [
    "a = Dog()\n",
    "b = Dog()\n",
    "\n",
    "a == b"
   ]
  },
  {
   "cell_type": "markdown",
   "metadata": {},
   "source": [
    "* Define the new Dog() class\n",
    "* Create 2 new dogs, each assigned to different objects.\n",
    "* Then to demostrate that each instance is actually different, we instantiated two more dogs, assigning each to a variable, then tested if those variables are equal."
   ]
  },
  {
   "cell_type": "code",
   "execution_count": null,
   "metadata": {},
   "outputs": [],
   "source": [
    "class Dog:\n",
    "    \n",
    "    #Class Attribute\n",
    "    species = 'mammal'\n",
    "    \n",
    "    #Instance Attributes\n",
    "    "
   ]
  }
 ],
 "metadata": {
  "kernelspec": {
   "display_name": "Python 3",
   "language": "python",
   "name": "python3"
  },
  "language_info": {
   "codemirror_mode": {
    "name": "ipython",
    "version": 3
   },
   "file_extension": ".py",
   "mimetype": "text/x-python",
   "name": "python",
   "nbconvert_exporter": "python",
   "pygments_lexer": "ipython3",
   "version": "3.7.4"
  }
 },
 "nbformat": 4,
 "nbformat_minor": 1
}
